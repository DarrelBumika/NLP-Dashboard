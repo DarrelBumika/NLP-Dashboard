{
 "cells": [
  {
   "cell_type": "code",
   "id": "initial_id",
   "metadata": {
    "collapsed": true,
    "ExecuteTime": {
     "end_time": "2024-10-13T17:14:39.391766Z",
     "start_time": "2024-10-13T17:14:39.376272Z"
    }
   },
   "source": [
    "import numpy as np\n",
    "import pandas as pd\n",
    "import re\n",
    "from Sastrawi.StopWordRemover.StopWordRemoverFactory import StopWordRemoverFactory"
   ],
   "outputs": [],
   "execution_count": 21
  },
  {
   "metadata": {
    "ExecuteTime": {
     "end_time": "2024-10-13T17:14:39.422769Z",
     "start_time": "2024-10-13T17:14:39.412892Z"
    }
   },
   "cell_type": "code",
   "source": [
    "factory = StopWordRemoverFactory()\n",
    "stopword_remover = factory.create_stop_word_remover()"
   ],
   "id": "2ba6d9a8c6cdb90b",
   "outputs": [],
   "execution_count": 22
  },
  {
   "metadata": {
    "ExecuteTime": {
     "end_time": "2024-10-13T17:14:39.453695Z",
     "start_time": "2024-10-13T17:14:39.440830Z"
    }
   },
   "cell_type": "code",
   "source": [
    "def cleaning(sent):\n",
    "    sent = str(sent)\n",
    "    if sent == 'nan':\n",
    "        return ''\n",
    "    string = sent.lower() # Mengubah kata menjadi huruf kecil\n",
    "    string = re.sub(r'@[\\w]+', '', string) # Mengapus mention\n",
    "    string = re.sub(r'https?://\\S+|www\\.\\S+', '', string) # Menghapus link\n",
    "    string = re.sub(r'[^a-zA-Z0-9]', ' ', string) # Menghapus emoticon dan tanda baca\n",
    "    string = re.sub(r'rt', '', string) # Menghapus RT\n",
    "    string = string.strip() # Menghapus spasi di awal dan akhir kalimat\n",
    "    string = stopword_remover.remove(string) # Menghapus stopwords\n",
    "    return string"
   ],
   "id": "377e47b221bd1104",
   "outputs": [],
   "execution_count": 23
  },
  {
   "metadata": {
    "ExecuteTime": {
     "end_time": "2024-10-13T17:14:39.500062Z",
     "start_time": "2024-10-13T17:14:39.471821Z"
    }
   },
   "cell_type": "code",
   "source": [
    "document = pd.read_csv('tweets-data/raw-data.csv', sep=',')\n",
    "document = document.rename(columns={'full_text': 'Tweet'})"
   ],
   "id": "d0d374c639f62830",
   "outputs": [],
   "execution_count": 24
  },
  {
   "metadata": {
    "ExecuteTime": {
     "end_time": "2024-10-13T17:14:39.561161Z",
     "start_time": "2024-10-13T17:14:39.518596Z"
    }
   },
   "cell_type": "code",
   "source": [
    "document['Tweet'] = document.Tweet.apply(cleaning)\n",
    "document.head()"
   ],
   "id": "2bbb93493a0354dd",
   "outputs": [
    {
     "data": {
      "text/plain": [
       "   conversation_id_str                      created_at  favorite_count  \\\n",
       "0  1840534326746010071  Sun Sep 29 23:29:13 +0000 2024               0   \n",
       "1  1840534301370425845  Sun Sep 29 23:29:07 +0000 2024               0   \n",
       "2  1840533996327120918  Sun Sep 29 23:27:54 +0000 2024               0   \n",
       "3  1840172992380449177  Sun Sep 29 23:27:52 +0000 2024               0   \n",
       "4  1840365370311594494  Sun Sep 29 23:26:57 +0000 2024               1   \n",
       "\n",
       "                                               Tweet               id_str  \\\n",
       "0                        ngantuk berat tarik selimut  1840534326746010071   \n",
       "1  mengakui akun fufufafa miliknya meminta maaf t...  1840534301370425845   \n",
       "2  cc  fyi pak prabowo harusnya bijaksana mengamb...  1840533996327120918   \n",
       "3  fufufafa jadi wapress  kalau pak prabowo sakit...  1840533986961179022   \n",
       "4  gibran jadi wapres negeri dg 275jt penduduk su...  1840533756303880359   \n",
       "\n",
       "  image_url in_reply_to_screen_name lang                location  quote_count  \\\n",
       "0       NaN                     NaN   in                     NaN            0   \n",
       "1       NaN                  gibran   in                     NaN            0   \n",
       "2       NaN                     NaN   in  Jakarta Capital Region            0   \n",
       "3       NaN             gtobing2903   in              Jogjakarta            0   \n",
       "4       NaN              HeryIdris5   in   Kota Bogor, West Java            0   \n",
       "\n",
       "   reply_count  retweet_count  \\\n",
       "0            0              0   \n",
       "1            0              0   \n",
       "2            0              0   \n",
       "3            0              0   \n",
       "4            0              0   \n",
       "\n",
       "                                           tweet_url          user_id_str  \\\n",
       "0  https://x.com/0XalinggaGibran/status/184053432...  1799405747102777345   \n",
       "1  https://x.com/ENS53311139/status/1840534301370...  1168102826624483329   \n",
       "2  https://x.com/saerozi63/status/184053399632712...  1638596282012028930   \n",
       "3  https://x.com/yudhikura/status/184053398696117...            131352298   \n",
       "4  https://x.com/wong_clayten/status/184053375630...           3139555602   \n",
       "\n",
       "          username  \n",
       "0  0XalinggaGibran  \n",
       "1      ENS53311139  \n",
       "2        saerozi63  \n",
       "3        yudhikura  \n",
       "4     wong_clayten  "
      ],
      "text/html": [
       "<div>\n",
       "<style scoped>\n",
       "    .dataframe tbody tr th:only-of-type {\n",
       "        vertical-align: middle;\n",
       "    }\n",
       "\n",
       "    .dataframe tbody tr th {\n",
       "        vertical-align: top;\n",
       "    }\n",
       "\n",
       "    .dataframe thead th {\n",
       "        text-align: right;\n",
       "    }\n",
       "</style>\n",
       "<table border=\"1\" class=\"dataframe\">\n",
       "  <thead>\n",
       "    <tr style=\"text-align: right;\">\n",
       "      <th></th>\n",
       "      <th>conversation_id_str</th>\n",
       "      <th>created_at</th>\n",
       "      <th>favorite_count</th>\n",
       "      <th>Tweet</th>\n",
       "      <th>id_str</th>\n",
       "      <th>image_url</th>\n",
       "      <th>in_reply_to_screen_name</th>\n",
       "      <th>lang</th>\n",
       "      <th>location</th>\n",
       "      <th>quote_count</th>\n",
       "      <th>reply_count</th>\n",
       "      <th>retweet_count</th>\n",
       "      <th>tweet_url</th>\n",
       "      <th>user_id_str</th>\n",
       "      <th>username</th>\n",
       "    </tr>\n",
       "  </thead>\n",
       "  <tbody>\n",
       "    <tr>\n",
       "      <th>0</th>\n",
       "      <td>1840534326746010071</td>\n",
       "      <td>Sun Sep 29 23:29:13 +0000 2024</td>\n",
       "      <td>0</td>\n",
       "      <td>ngantuk berat tarik selimut</td>\n",
       "      <td>1840534326746010071</td>\n",
       "      <td>NaN</td>\n",
       "      <td>NaN</td>\n",
       "      <td>in</td>\n",
       "      <td>NaN</td>\n",
       "      <td>0</td>\n",
       "      <td>0</td>\n",
       "      <td>0</td>\n",
       "      <td>https://x.com/0XalinggaGibran/status/184053432...</td>\n",
       "      <td>1799405747102777345</td>\n",
       "      <td>0XalinggaGibran</td>\n",
       "    </tr>\n",
       "    <tr>\n",
       "      <th>1</th>\n",
       "      <td>1840534301370425845</td>\n",
       "      <td>Sun Sep 29 23:29:07 +0000 2024</td>\n",
       "      <td>0</td>\n",
       "      <td>mengakui akun fufufafa miliknya meminta maaf t...</td>\n",
       "      <td>1840534301370425845</td>\n",
       "      <td>NaN</td>\n",
       "      <td>gibran</td>\n",
       "      <td>in</td>\n",
       "      <td>NaN</td>\n",
       "      <td>0</td>\n",
       "      <td>0</td>\n",
       "      <td>0</td>\n",
       "      <td>https://x.com/ENS53311139/status/1840534301370...</td>\n",
       "      <td>1168102826624483329</td>\n",
       "      <td>ENS53311139</td>\n",
       "    </tr>\n",
       "    <tr>\n",
       "      <th>2</th>\n",
       "      <td>1840533996327120918</td>\n",
       "      <td>Sun Sep 29 23:27:54 +0000 2024</td>\n",
       "      <td>0</td>\n",
       "      <td>cc  fyi pak prabowo harusnya bijaksana mengamb...</td>\n",
       "      <td>1840533996327120918</td>\n",
       "      <td>NaN</td>\n",
       "      <td>NaN</td>\n",
       "      <td>in</td>\n",
       "      <td>Jakarta Capital Region</td>\n",
       "      <td>0</td>\n",
       "      <td>0</td>\n",
       "      <td>0</td>\n",
       "      <td>https://x.com/saerozi63/status/184053399632712...</td>\n",
       "      <td>1638596282012028930</td>\n",
       "      <td>saerozi63</td>\n",
       "    </tr>\n",
       "    <tr>\n",
       "      <th>3</th>\n",
       "      <td>1840172992380449177</td>\n",
       "      <td>Sun Sep 29 23:27:52 +0000 2024</td>\n",
       "      <td>0</td>\n",
       "      <td>fufufafa jadi wapress  kalau pak prabowo sakit...</td>\n",
       "      <td>1840533986961179022</td>\n",
       "      <td>NaN</td>\n",
       "      <td>gtobing2903</td>\n",
       "      <td>in</td>\n",
       "      <td>Jogjakarta</td>\n",
       "      <td>0</td>\n",
       "      <td>0</td>\n",
       "      <td>0</td>\n",
       "      <td>https://x.com/yudhikura/status/184053398696117...</td>\n",
       "      <td>131352298</td>\n",
       "      <td>yudhikura</td>\n",
       "    </tr>\n",
       "    <tr>\n",
       "      <th>4</th>\n",
       "      <td>1840365370311594494</td>\n",
       "      <td>Sun Sep 29 23:26:57 +0000 2024</td>\n",
       "      <td>1</td>\n",
       "      <td>gibran jadi wapres negeri dg 275jt penduduk su...</td>\n",
       "      <td>1840533756303880359</td>\n",
       "      <td>NaN</td>\n",
       "      <td>HeryIdris5</td>\n",
       "      <td>in</td>\n",
       "      <td>Kota Bogor, West Java</td>\n",
       "      <td>0</td>\n",
       "      <td>0</td>\n",
       "      <td>0</td>\n",
       "      <td>https://x.com/wong_clayten/status/184053375630...</td>\n",
       "      <td>3139555602</td>\n",
       "      <td>wong_clayten</td>\n",
       "    </tr>\n",
       "  </tbody>\n",
       "</table>\n",
       "</div>"
      ]
     },
     "execution_count": 25,
     "metadata": {},
     "output_type": "execute_result"
    }
   ],
   "execution_count": 25
  },
  {
   "metadata": {
    "ExecuteTime": {
     "end_time": "2024-10-13T17:14:39.655063Z",
     "start_time": "2024-10-13T17:14:39.624748Z"
    }
   },
   "cell_type": "code",
   "source": [
    "document = document.replace(r'^\\s*$', \"\", regex=True)\n",
    "document = document[~document['Tweet'].str.contains(r'premium|zonauang|wtb|wts', case=False, na=False)]\n",
    "document = document.dropna(subset=['Tweet'])"
   ],
   "id": "ecd8b9831c4f9c57",
   "outputs": [],
   "execution_count": 26
  },
  {
   "metadata": {
    "ExecuteTime": {
     "end_time": "2024-10-13T17:14:39.733136Z",
     "start_time": "2024-10-13T17:14:39.704442Z"
    }
   },
   "cell_type": "code",
   "source": "document.to_csv('tweets-data/cleaned-data.csv', index=False)",
   "id": "ec40efc3a3096c9a",
   "outputs": [],
   "execution_count": 27
  }
 ],
 "metadata": {
  "kernelspec": {
   "display_name": "Python 3",
   "language": "python",
   "name": "python3"
  },
  "language_info": {
   "codemirror_mode": {
    "name": "ipython",
    "version": 2
   },
   "file_extension": ".py",
   "mimetype": "text/x-python",
   "name": "python",
   "nbconvert_exporter": "python",
   "pygments_lexer": "ipython2",
   "version": "2.7.6"
  }
 },
 "nbformat": 4,
 "nbformat_minor": 5
}
